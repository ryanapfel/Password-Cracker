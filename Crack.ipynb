{
 "cells": [
  {
   "cell_type": "code",
   "execution_count": 177,
   "metadata": {},
   "outputs": [],
   "source": [
    "import hashlib \n",
    "import string\n",
    "import binascii\n",
    "import pandas as pd\n",
    "import time as t\n",
    "import itertools\n",
    "import matplotlib.pyplot as plt\n",
    "import seaborn as sns\n"
   ]
  },
  {
   "cell_type": "code",
   "execution_count": 147,
   "metadata": {},
   "outputs": [],
   "source": [
    "_MAX_LEN = 8 # stops the function once we hit a certain length\n",
    "\n",
    "def crack(compare):\n",
    "    start = t.time()\n",
    "    chars = [chr(i) for i in range(33,127)] # create a list of chars to iterate through\n",
    "    for i in range(0, _MAX_LEN + 1): # we want all the permutation for every length of password up to the maxlen\n",
    "        for subset in itertools.permutations(chars, i): # itertools will iterate through all the dif permutations of password possibilities within our charlist\n",
    "            string = str(''.join(subset)) # joins\n",
    "            hashed = hashlib.md5((string).encode()).hexdigest() #turns into a hash\n",
    "            if hashed == compare:\n",
    "                end = t.time()\n",
    "                return string, time\n",
    "    return -1\n",
    "        "
   ]
  },
  {
   "cell_type": "code",
   "execution_count": null,
   "metadata": {},
   "outputs": [],
   "source": [
    "import itertools\n",
    "import multiprocessing\n",
    "import string\n"
   ]
  },
  {
   "cell_type": "code",
   "execution_count": 217,
   "metadata": {},
   "outputs": [],
   "source": [
    "import multiprocessing as mp\n",
    "import numpy as np\n",
    "   \n",
    "def work(hash_p):\n",
    "    password, final  = crack(hash_p)\n",
    "    tempDict = {'Password': password, 'Duration': final, 'Length': len(password)} \n",
    "    if time != -1:\n",
    "        return tempDict\n",
    "    else:\n",
    "        return {'Password': -1, 'Duration': -1, 'Length': -1} \n",
    "\n",
    "def cpu_crackList(hashlist):\n",
    "    cores = mp.cpu_count()\n",
    "    pool = mp.Pool(cores)\n",
    "    result_list = pool.map(work, hashlist)\n",
    "    \n",
    "    return pd.DataFrame(result_list)\n"
   ]
  },
  {
   "cell_type": "code",
   "execution_count": 156,
   "metadata": {},
   "outputs": [],
   "source": [
    "try:\n",
    "    f = open(\"passwords.txt\", \"r\")\n",
    "    l = []\n",
    "    for line in f.readlines():\n",
    "        l.append(hashlib.md5((line.strip()).encode()).hexdigest())\n",
    "    f.close()\n",
    "except:\n",
    "    print(\"passwords.txt not found\")\n",
    "\n",
    "\n",
    "try:\n",
    "    f = open(\"hashes.txt\", \"x\")\n",
    "except:\n",
    "    f = open(\"hashes.txt\", \"w\")\n",
    "for i in l:\n",
    "    f.write(i + '\\n')\n",
    "f.close()\n",
    "\n"
   ]
  },
  {
   "cell_type": "code",
   "execution_count": 157,
   "metadata": {},
   "outputs": [],
   "source": [
    "# read in the file\n",
    "\n",
    "f = open(\"hashes.txt\", \"r\")\n",
    "hashed_list = []\n",
    "for line in f.readlines():\n",
    "    hashed_list.append(line.strip()) # create a list of hashed passwords to check against\n",
    "f.close()"
   ]
  },
  {
   "cell_type": "code",
   "execution_count": 161,
   "metadata": {},
   "outputs": [],
   "source": [
    "def crackList(hashed_list):\n",
    "    dict_list = []\n",
    "\n",
    "    for pword in hashed_list: # loop through all the passwords\n",
    "        password, final  = crack(pword)\n",
    "        tempDict = {'Password': password, 'Duration': final, 'Length': len(password)} \n",
    "        if time != -1:\n",
    "            dict_list.append(tempDict)\n",
    "\n",
    "    return pd.DataFrame(dict_list) #returns the data frame of the passwords"
   ]
  },
  {
   "cell_type": "code",
   "execution_count": 163,
   "metadata": {},
   "outputs": [
    {
     "data": {
      "text/html": [
       "<div>\n",
       "<style scoped>\n",
       "    .dataframe tbody tr th:only-of-type {\n",
       "        vertical-align: middle;\n",
       "    }\n",
       "\n",
       "    .dataframe tbody tr th {\n",
       "        vertical-align: top;\n",
       "    }\n",
       "\n",
       "    .dataframe thead th {\n",
       "        text-align: right;\n",
       "    }\n",
       "</style>\n",
       "<table border=\"1\" class=\"dataframe\">\n",
       "  <thead>\n",
       "    <tr style=\"text-align: right;\">\n",
       "      <th></th>\n",
       "      <th>Duration</th>\n",
       "      <th>Length</th>\n",
       "      <th>Password</th>\n",
       "    </tr>\n",
       "  </thead>\n",
       "  <tbody>\n",
       "    <tr>\n",
       "      <th>0</th>\n",
       "      <td>0.000276</td>\n",
       "      <td>1</td>\n",
       "      <td>Z</td>\n",
       "    </tr>\n",
       "    <tr>\n",
       "      <th>1</th>\n",
       "      <td>0.007807</td>\n",
       "      <td>2</td>\n",
       "      <td>AD</td>\n",
       "    </tr>\n",
       "    <tr>\n",
       "      <th>2</th>\n",
       "      <td>0.568234</td>\n",
       "      <td>3</td>\n",
       "      <td>God</td>\n",
       "    </tr>\n",
       "    <tr>\n",
       "      <th>3</th>\n",
       "      <td>23.468044</td>\n",
       "      <td>4</td>\n",
       "      <td>1234</td>\n",
       "    </tr>\n",
       "  </tbody>\n",
       "</table>\n",
       "</div>"
      ],
      "text/plain": [
       "    Duration  Length Password\n",
       "0   0.000276       1        Z\n",
       "1   0.007807       2       AD\n",
       "2   0.568234       3      God\n",
       "3  23.468044       4     1234"
      ]
     },
     "execution_count": 163,
     "metadata": {},
     "output_type": "execute_result"
    }
   ],
   "source": [
    "df = crackList(hashed_list)\n"
   ]
  },
  {
   "cell_type": "code",
   "execution_count": 182,
   "metadata": {},
   "outputs": [
    {
     "data": {
      "image/png": "[encoded data removed]",
      "text/plain": [
       "<Figure size 360x360 with 1 Axes>"
      ]
     },
     "metadata": {
      "needs_background": "light"
     },
     "output_type": "display_data"
    }
   ],
   "source": [
    "plot = sns.relplot(x='Length', y='Duration', kind='line', data=df) #plots the relationship of time and length"
   ]
  }
 ],
 "metadata": {
  "kernelspec": {
   "display_name": "Python 3",
   "language": "python",
   "name": "python3"
  },
  "language_info": {
   "codemirror_mode": {
    "name": "ipython",
    "version": 3
   },
   "file_extension": ".py",
   "mimetype": "text/x-python",
   "name": "python",
   "nbconvert_exporter": "python",
   "pygments_lexer": "ipython3",
   "version": "3.7.3"
  }
 },
 "nbformat": 4,
 "nbformat_minor": 2
}
